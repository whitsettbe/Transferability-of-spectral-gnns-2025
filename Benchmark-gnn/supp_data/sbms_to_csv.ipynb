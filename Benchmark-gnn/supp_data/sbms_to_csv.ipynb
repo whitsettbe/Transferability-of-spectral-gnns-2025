{
 "cells": [
  {
   "cell_type": "code",
   "execution_count": 2,
   "id": "13fdb4eb",
   "metadata": {},
   "outputs": [],
   "source": [
    "import os\n",
    "import sys\n",
    "module_path = os.path.abspath(os.path.join('..')) # or the path to your source code\n",
    "sys.path.insert(0, module_path)\n",
    "os.chdir('..')"
   ]
  },
  {
   "cell_type": "code",
   "execution_count": 3,
   "id": "3744e6b6",
   "metadata": {},
   "outputs": [],
   "source": [
    "class DotDict(dict):\n",
    "    def __init__(self, **kwds):\n",
    "        self.update(kwds)\n",
    "        self.__dict__ = self"
   ]
  },
  {
   "cell_type": "code",
   "execution_count": 4,
   "id": "7728bb9e",
   "metadata": {},
   "outputs": [
    {
     "name": "stderr",
     "output_type": "stream",
     "text": [
      "Using backend: pytorch\n"
     ]
    },
    {
     "name": "stdout",
     "output_type": "stream",
     "text": [
      "[I] Loading dataset SBM_CLUSTER...\n",
      "train, test, val sizes : 10000 1000 1000\n",
      "[I] Finished loading.\n",
      "[I] Data load time: 7.7512s\n"
     ]
    }
   ],
   "source": [
    "from data.data import LoadData\n",
    "\n",
    "dataset = LoadData(\"SBM_CLUSTER\")"
   ]
  },
  {
   "cell_type": "code",
   "execution_count": 5,
   "id": "bd878b24",
   "metadata": {},
   "outputs": [],
   "source": [
    "import torch.nn as nn\n",
    "from torch.utils.data import DataLoader\n",
    "import torch\n",
    "import numpy as np\n",
    "from sklearn import svm\n",
    "import dgl"
   ]
  },
  {
   "cell_type": "code",
   "execution_count": 6,
   "id": "5b2bd05c",
   "metadata": {},
   "outputs": [],
   "source": [
    "train_loader = DataLoader(dataset.train, batch_size=len(dataset.train), shuffle=True, collate_fn=dataset.collate)\n",
    "test_loader = DataLoader(dataset.test, batch_size=len(dataset.test), shuffle=False, collate_fn=dataset.collate)\n",
    "val_loader = DataLoader(dataset.val, batch_size=len(dataset.val), shuffle=False, collate_fn=dataset.collate)"
   ]
  },
  {
   "cell_type": "code",
   "execution_count": 7,
   "id": "61255e91",
   "metadata": {},
   "outputs": [],
   "source": [
    "import pandas as pd\n",
    "\n",
    "for name, loader in zip(['train', 'test', 'val'], [train_loader, test_loader, val_loader]):\n",
    "    edge_list_data = []\n",
    "    for batch_graphs, batch_targets in loader:\n",
    "        graphs = dgl.unbatch(batch_graphs)\n",
    "        for g in graphs:\n",
    "            src, dst = g.edges()\n",
    "            edge_index = [src.tolist(), dst.tolist()]\n",
    "            num_nodes = g.num_nodes()\n",
    "            edge_list_data.append({'edge_index': edge_index, 'num_nodes': num_nodes})\n",
    "    edge_list_df = pd.DataFrame(edge_list_data)\n",
    "    edge_list_df.to_csv(f'supp_data/temp/cluster_graphs_{name}.csv', index=False)"
   ]
  },
  {
   "cell_type": "code",
   "execution_count": null,
   "id": "45769b3d",
   "metadata": {},
   "outputs": [],
   "source": []
  },
  {
   "cell_type": "code",
   "execution_count": null,
   "id": "2a9e60d0",
   "metadata": {},
   "outputs": [],
   "source": []
  }
 ],
 "metadata": {
  "kernelspec": {
   "display_name": "Python 3",
   "language": "python",
   "name": "python3"
  },
  "language_info": {
   "codemirror_mode": {
    "name": "ipython",
    "version": 3
   },
   "file_extension": ".py",
   "mimetype": "text/x-python",
   "name": "python",
   "nbconvert_exporter": "python",
   "pygments_lexer": "ipython3",
   "version": "3.7.12"
  }
 },
 "nbformat": 4,
 "nbformat_minor": 5
}
