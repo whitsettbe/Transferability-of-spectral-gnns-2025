{
 "cells": [
  {
   "cell_type": "code",
   "execution_count": 25,
   "id": "9042baa0",
   "metadata": {},
   "outputs": [],
   "source": [
    "import torch\n",
    "import pandas as pd\n",
    "import matplotlib.pyplot as plt\n",
    "import numpy as np\n",
    "from tqdm import tqdm"
   ]
  },
  {
   "cell_type": "code",
   "execution_count": 2,
   "id": "d8b9dbeb",
   "metadata": {},
   "outputs": [],
   "source": [
    "def decompose(signal, signals):\n",
    "    # assumes signals are orthonormalized\n",
    "    return torch.tensor([torch.tensor(signal).dot(torch.tensor(h)) for h in signals])"
   ]
  },
  {
   "cell_type": "code",
   "execution_count": 3,
   "id": "c83b6689",
   "metadata": {},
   "outputs": [],
   "source": [
    "def num_needed_for_rat(nums, rat = 0.5):\n",
    "    # returns the number of elements needed to reach at least `rat` of the sum of the input list\n",
    "    total = sum(nums)\n",
    "    targ = total * rat\n",
    "    running_sum = 0\n",
    "    for i, num in enumerate(sorted(nums, reverse=True)):\n",
    "        running_sum += num\n",
    "        if running_sum >= targ:\n",
    "            return i + 1\n",
    "    return len(nums)"
   ]
  },
  {
   "cell_type": "code",
   "execution_count": 4,
   "id": "26e6ca8e",
   "metadata": {},
   "outputs": [],
   "source": [
    "df = pd.read_csv('data/zinc_test_rec.csv', index_col=1)\n",
    "df.sort_index(inplace=True)\n",
    "df.drop(columns=['Unnamed: 0'], inplace=True)"
   ]
  },
  {
   "cell_type": "code",
   "execution_count": 5,
   "id": "f560de32",
   "metadata": {},
   "outputs": [],
   "source": [
    "def lapFromInfo(edge_index, num_nodes):\n",
    "    laplacian = torch.zeros((num_nodes, num_nodes), dtype=torch.float64)\n",
    "    for i,j in zip(*edge_index):\n",
    "        laplacian[i, j] = -1\n",
    "        laplacian[j, i] = -1\n",
    "        laplacian[i, i] += 1\n",
    "        laplacian[j, j] += 1\n",
    "    return laplacian"
   ]
  },
  {
   "cell_type": "code",
   "execution_count": 20,
   "id": "1bd8a439",
   "metadata": {},
   "outputs": [],
   "source": [
    "def getNormFracs(edge_index, num_nodes, signals, fracs = [0.25, 0.5, 0.75]):\n",
    "    \n",
    "    # get graph spectrum info\n",
    "    laplacian = lapFromInfo(edge_index, num_nodes)\n",
    "    eigvals, eigvecs = torch.eig(laplacian, eigenvectors=True)\n",
    "    eigvals = eigvals[:, 0]  # take the real part of eigenvalues\n",
    "    sorted_indices = torch.argsort(eigvals)\n",
    "    eigvecs_sorted = eigvecs[:, sorted_indices]\n",
    "    eigvals_sorted = eigvals[sorted_indices]\n",
    "    eigvec_list = [eigvecs_sorted[:, i] for i in range(eigvecs_sorted.shape[1])]\n",
    "    \n",
    "    # get decompositions\n",
    "    decompositions = [torch.abs(decompose(eigvec, signals)) for eigvec in eigvec_list]\n",
    "    \n",
    "    # get percentage of components needed for each L2 norm fraction\n",
    "    component_amt = []\n",
    "    for frac in fracs:\n",
    "        component_amt.append(np.mean([num_needed_for_rat(decomp ** 2, frac) / len(decomp) for decomp in decompositions]))\n",
    "    return component_amt"
   ]
  },
  {
   "cell_type": "code",
   "execution_count": 21,
   "id": "9347159f",
   "metadata": {},
   "outputs": [],
   "source": [
    "def normalize_vectors(vectors):\n",
    "    normed = []\n",
    "    for v in torch.tensor(vectors, dtype=torch.float64):\n",
    "        normed.append(v / torch.norm(v))\n",
    "    return torch.stack(normed)"
   ]
  },
  {
   "cell_type": "code",
   "execution_count": 22,
   "id": "3f009b81",
   "metadata": {},
   "outputs": [],
   "source": [
    "def batch_sort(items, keys):\n",
    "    # Sort the dyadic-power-delimited chunks\n",
    "    sorted_items = [item for item in items]\n",
    "    i = 1\n",
    "    while i < 2*len(keys):\n",
    "        sorted_indices = sorted(list(range(i//2, i)), key=lambda x: keys[x])\n",
    "        sorted_items[i//2:i] = [sorted_items[idx] for idx in sorted_indices]\n",
    "        i *= 2\n",
    "    return sorted_items"
   ]
  },
  {
   "cell_type": "code",
   "execution_count": 23,
   "id": "8b8b50e0",
   "metadata": {},
   "outputs": [],
   "source": [
    "def energies(vecs, lap): # vectors should be row-wise in a tensor\n",
    "    return [x.item() for x in torch.diag(vecs @ lap @ vecs.T)]"
   ]
  },
  {
   "cell_type": "code",
   "execution_count": 26,
   "id": "33ba9974",
   "metadata": {},
   "outputs": [
    {
     "name": "stderr",
     "output_type": "stream",
     "text": [
      "  0%|          | 0/1000 [00:00<?, ?it/s]/home/bsw38/.conda/envs/benchmark_gnn_2/lib/python3.7/site-packages/ipykernel_launcher.py:3: UserWarning: To copy construct from a tensor, it is recommended to use sourceTensor.clone().detach() or sourceTensor.clone().detach().requires_grad_(True), rather than torch.tensor(sourceTensor).\n",
      "  This is separate from the ipykernel package so we can avoid doing imports until\n",
      "100%|██████████| 1000/1000 [01:00<00:00, 16.65it/s]\n"
     ]
    }
   ],
   "source": [
    "normFracs = []\n",
    "for i in tqdm(range(df.shape[0])):\n",
    "    signals = eval(df.signals[i])\n",
    "    num_nodes = df.num_nodes[i]\n",
    "    edge_index = eval(df.edge_index[i])\n",
    "    \n",
    "    signals = normalize_vectors(signals) \n",
    "    laplacian = lapFromInfo(edge_index, num_nodes)\n",
    "    energ = energies(signals, laplacian)\n",
    "    signals = batch_sort(signals, energ)\n",
    "    normFracs.append(getNormFracs(edge_index, num_nodes, signals, [0.25,.5,.75]))"
   ]
  },
  {
   "cell_type": "code",
   "execution_count": 28,
   "id": "2e4926a3",
   "metadata": {},
   "outputs": [],
   "source": [
    "normFracs = np.array(normFracs).T # each row corresponds to a different fraction"
   ]
  },
  {
   "cell_type": "code",
   "execution_count": 30,
   "id": "6bc001c0",
   "metadata": {},
   "outputs": [],
   "source": [
    "# Plot the cumulative distributions\n",
    "normFracs.sort(axis=1)"
   ]
  },
  {
   "cell_type": "code",
   "execution_count": 32,
   "id": "57e5ca20",
   "metadata": {},
   "outputs": [],
   "source": [
    "normFracs_sorted = normFracs"
   ]
  },
  {
   "cell_type": "code",
   "execution_count": 33,
   "id": "9239ff9a",
   "metadata": {},
   "outputs": [
    {
     "data": {
      "text/plain": [
       "array([[0.04241071, 0.04545455, 0.04592803, ..., 0.09166667, 0.09583333,\n",
       "        0.09615385],\n",
       "       [0.09090909, 0.0953125 , 0.09926471, ..., 0.16666667, 0.171875  ,\n",
       "        0.17708333],\n",
       "       [0.19117647, 0.19460227, 0.19852941, ..., 0.2890625 , 0.29166667,\n",
       "        0.29296875]])"
      ]
     },
     "execution_count": 33,
     "metadata": {},
     "output_type": "execute_result"
    }
   ],
   "source": [
    "normFracs_sorted"
   ]
  },
  {
   "cell_type": "code",
   "execution_count": 35,
   "id": "5fb51c55",
   "metadata": {},
   "outputs": [
    {
     "data": {
      "image/png": "[encoded data removed]",
      "text/plain": [
       "<Figure size 432x288 with 1 Axes>"
      ]
     },
     "metadata": {
      "needs_background": "light"
     },
     "output_type": "display_data"
    }
   ],
   "source": [
    "# Plot a cumulative distribution curve for each fraction\n",
    "for row in normFracs_sorted:\n",
    "    plt.plot(row, np.linspace(0, 1, len(row)))"
   ]
  },
  {
   "cell_type": "code",
   "execution_count": null,
   "id": "bd35771f",
   "metadata": {},
   "outputs": [],
   "source": []
  }
 ],
 "metadata": {
  "kernelspec": {
   "display_name": "Python 3",
   "language": "python",
   "name": "python3"
  },
  "language_info": {
   "codemirror_mode": {
    "name": "ipython",
    "version": 3
   },
   "file_extension": ".py",
   "mimetype": "text/x-python",
   "name": "python",
   "nbconvert_exporter": "python",
   "pygments_lexer": "ipython3",
   "version": "3.7.12"
  }
 },
 "nbformat": 4,
 "nbformat_minor": 5
}
