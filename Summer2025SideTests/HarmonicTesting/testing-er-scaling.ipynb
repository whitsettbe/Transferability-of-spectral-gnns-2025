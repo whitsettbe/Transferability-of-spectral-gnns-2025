{
 "cells": [
  {
   "cell_type": "markdown",
   "id": "ed68665d",
   "metadata": {},
   "source": [
    "Note to self: float32 is NOT enough to achieve reasonable numerical stability in the Gram-Schmidt step!"
   ]
  },
  {
   "cell_type": "code",
   "execution_count": 16,
   "id": "1e3f92b5",
   "metadata": {},
   "outputs": [],
   "source": [
    "import torch\n",
    "import pandas as pd\n",
    "import matplotlib.pyplot as plt\n",
    "import numpy as np"
   ]
  },
  {
   "cell_type": "code",
   "execution_count": 17,
   "id": "8b2cf29e",
   "metadata": {},
   "outputs": [],
   "source": [
    "df = pd.read_csv('er_graphs_scaling_out.csv')"
   ]
  },
  {
   "cell_type": "code",
   "execution_count": 19,
   "id": "ab698601",
   "metadata": {},
   "outputs": [
    {
     "data": {
      "text/plain": [
       "graph_id                                                          0\n",
       "edge_index        [[2, 2, 3, 7, 1, 1, 5, 4, 2, 5, 2], [7, 6, 5, ...\n",
       "num_nodes                                                        10\n",
       "signals           [[1, 1, 1, 1, 1, 1, 1, 1, 1, 1], [-1, -1, 1, 1...\n",
       "partition_time                                              8167919\n",
       "extract_time                                                 187364\n",
       "Name: 0, dtype: object"
      ]
     },
     "execution_count": 19,
     "metadata": {},
     "output_type": "execute_result"
    }
   ],
   "source": [
    "df.iloc[0]"
   ]
  },
  {
   "cell_type": "code",
   "execution_count": 20,
   "id": "8280542a",
   "metadata": {},
   "outputs": [],
   "source": [
    "dat = []\n",
    "for row in df.itertuples():\n",
    "    n = row.num_nodes\n",
    "    m = len(eval(row.edge_index)[0])\n",
    "    part = row.partition_time\n",
    "    ext = row.extract_time\n",
    "    dat.append((n, m, part, ext))"
   ]
  },
  {
   "cell_type": "code",
   "execution_count": 21,
   "id": "20026ffc",
   "metadata": {},
   "outputs": [],
   "source": [
    "dat.sort()"
   ]
  },
  {
   "cell_type": "code",
   "execution_count": 23,
   "id": "ca71f270",
   "metadata": {},
   "outputs": [
    {
     "data": {
      "image/png": "[encoded data removed]",
      "text/plain": [
       "<Figure size 432x288 with 1 Axes>"
      ]
     },
     "metadata": {
      "needs_background": "light"
     },
     "output_type": "display_data"
    }
   ],
   "source": [
    "plt.scatter([x[1]*np.log10(x[0]) for x in dat], [x[2] for x in dat])\n",
    "plt.xlabel('m log(n)')\n",
    "plt.ylabel('partition_time (ns)')\n",
    "plt.title('Scatterplot of partition_time vs m log n')\n",
    "plt.xscale('log')\n",
    "plt.yscale('log')\n",
    "plt.show()"
   ]
  },
  {
   "cell_type": "code",
   "execution_count": null,
   "id": "90898f37",
   "metadata": {},
   "outputs": [
    {
     "data": {
      "image/png": "[encoded data removed]",
      "text/plain": [
       "<Figure size 432x288 with 1 Axes>"
      ]
     },
     "metadata": {
      "needs_background": "light"
     },
     "output_type": "display_data"
    }
   ],
   "source": [
    "plt.scatter([x[0]**2 for x in dat], [x[3] for x in dat])\n",
    "plt.xlabel('n^2')\n",
    "plt.ylabel('extract_time (ns)')\n",
    "plt.title('Scatterplot of extract_time vs n^2')\n",
    "plt.xscale('log')\n",
    "plt.yscale('log')\n",
    "plt.show()"
   ]
  },
  {
   "cell_type": "code",
   "execution_count": null,
   "id": "944ea3ef",
   "metadata": {},
   "outputs": [],
   "source": []
  }
 ],
 "metadata": {
  "kernelspec": {
   "display_name": "Python 3",
   "language": "python",
   "name": "python3"
  },
  "language_info": {
   "codemirror_mode": {
    "name": "ipython",
    "version": 3
   },
   "file_extension": ".py",
   "mimetype": "text/x-python",
   "name": "python",
   "nbconvert_exporter": "python",
   "pygments_lexer": "ipython3",
   "version": "3.7.12"
  }
 },
 "nbformat": 4,
 "nbformat_minor": 5
}
