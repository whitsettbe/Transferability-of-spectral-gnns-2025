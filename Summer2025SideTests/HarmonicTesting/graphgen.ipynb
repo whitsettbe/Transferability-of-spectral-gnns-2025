{
 "cells": [
  {
   "cell_type": "code",
   "execution_count": 5,
   "id": "6057451c",
   "metadata": {},
   "outputs": [],
   "source": [
    "import pandas as pd\n",
    "import random"
   ]
  },
  {
   "cell_type": "code",
   "execution_count": null,
   "id": "a3705faf",
   "metadata": {},
   "outputs": [],
   "source": [
    "def grid_graph(rows : int, cols : int, row_loop : bool, col_loop : bool):\n",
    "    ids = [[i * cols + j for j in range(cols)] for i in range(rows)]\n",
    "    edges = []\n",
    "    for i in range(rows):\n",
    "        for j in range(cols):\n",
    "            if j < cols - 1 or col_loop:\n",
    "                edges.append((ids[i][j], ids[i][(j + 1) % cols]))\n",
    "            if i < rows - 1 or row_loop:\n",
    "                edges.append((ids[i][j], ids[(i + 1) % rows][j]))\n",
    "    return rows*cols, edges"
   ]
  },
  {
   "cell_type": "code",
   "execution_count": null,
   "id": "ed0468ac",
   "metadata": {},
   "outputs": [],
   "source": [
    "dims = [1,2,3,4,8,9,16,27,32]\n",
    "grid_data = []\n",
    "for d1 in dims:\n",
    "    for d2 in dims:\n",
    "        if d1 > d2:\n",
    "            continue\n",
    "        for row_loop in [False, True]:\n",
    "            if d1 <= 2 and row_loop:\n",
    "                continue\n",
    "            for col_loop in [False, True]:\n",
    "                if d2 <= 2 and col_loop:\n",
    "                    continue\n",
    "                num_nodes, edge_list = grid_graph(d1, d2, row_loop, col_loop)\n",
    "                edge_index = list(zip(*edge_list))\n",
    "                grid_data.append({'edge_index': edge_index, 'num_nodes': num_nodes})"
   ]
  },
  {
   "cell_type": "code",
   "execution_count": null,
   "id": "b6906b7c",
   "metadata": {},
   "outputs": [],
   "source": [
    "pd.DataFrame(grid_data).to_csv('grid_graphs.csv', index=False)"
   ]
  },
  {
   "cell_type": "code",
   "execution_count": 6,
   "id": "f98cf8e5",
   "metadata": {},
   "outputs": [],
   "source": [
    "def er_graph(n, p):\n",
    "    edge_list = []\n",
    "    for i in range(n):\n",
    "        for j in range(i + 1, n):\n",
    "            if random.random() < p:\n",
    "                edge_list.append((i, j))\n",
    "    return n, edge_list"
   ]
  },
  {
   "cell_type": "code",
   "execution_count": 7,
   "id": "b4c33cd7",
   "metadata": {},
   "outputs": [],
   "source": [
    "def good_er_graph(n, p, trials):\n",
    "    for _ in range(trials):\n",
    "        num_nodes, edge_list = er_graph(n, p)\n",
    "        if len(edge_list) >= n - 1: # not a guarantee of connectivity, but a good check\n",
    "            return num_nodes, edge_list\n",
    "    return None, None"
   ]
  },
  {
   "cell_type": "code",
   "execution_count": 8,
   "id": "fc1502d4",
   "metadata": {},
   "outputs": [],
   "source": [
    "nums = [10, 21, 46, 100, 210, 460, 1000]#, 2100, 4600, 10000]#[20, 80, 320, 1280]\n",
    "#probs = [1/2, 1/8, 1/32, 1/128, 1/512]\n",
    "pows = [5/4, 3/2, 7/4]# roughly, will have ~n^(po) edges\n",
    "er_data = []\n",
    "for n in nums:\n",
    "    for po in pows:\n",
    "        p = (n * (n-1) / 2) ** (po/2-1)\n",
    "        num_nodes, edge_list = good_er_graph(n, p, 1000)\n",
    "        if num_nodes is not None:\n",
    "            edge_index = list(zip(*edge_list))\n",
    "            er_data.append({'edge_index': edge_index, 'num_nodes': num_nodes})"
   ]
  },
  {
   "cell_type": "code",
   "execution_count": 9,
   "id": "f6b1b528",
   "metadata": {},
   "outputs": [],
   "source": [
    "pd.DataFrame(er_data).to_csv('er_graphs_scaling.csv', index=False)"
   ]
  },
  {
   "cell_type": "code",
   "execution_count": null,
   "id": "c3dc9f6b",
   "metadata": {},
   "outputs": [],
   "source": []
  }
 ],
 "metadata": {
  "kernelspec": {
   "display_name": "Python 3",
   "language": "python",
   "name": "python3"
  },
  "language_info": {
   "codemirror_mode": {
    "name": "ipython",
    "version": 3
   },
   "file_extension": ".py",
   "mimetype": "text/x-python",
   "name": "python",
   "nbconvert_exporter": "python",
   "pygments_lexer": "ipython3",
   "version": "3.7.12"
  }
 },
 "nbformat": 4,
 "nbformat_minor": 5
}
